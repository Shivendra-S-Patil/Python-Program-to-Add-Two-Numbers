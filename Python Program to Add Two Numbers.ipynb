{
 "cells": [
  {
   "cell_type": "code",
   "execution_count": 1,
   "id": "7104d36c",
   "metadata": {},
   "outputs": [],
   "source": [
    "#1. Pre-defined Variables"
   ]
  },
  {
   "cell_type": "code",
   "execution_count": 2,
   "id": "d606f986",
   "metadata": {},
   "outputs": [
    {
     "name": "stdout",
     "output_type": "stream",
     "text": [
      "The sum of two numbers is  110\n"
     ]
    }
   ],
   "source": [
    "num1 = 11 #Here we define the variables in program\n",
    "num2 = 99\n",
    "\n",
    "print(\"The sum of two numbers is \", num1 + num2)"
   ]
  },
  {
   "cell_type": "code",
   "execution_count": 3,
   "id": "4e92c64b",
   "metadata": {},
   "outputs": [
    {
     "name": "stdout",
     "output_type": "stream",
     "text": [
      "The sum of two numbers is  110\n"
     ]
    }
   ],
   "source": [
    "num1 = 11\n",
    "num2 = 99\n",
    "sum = num1 + num2  #If we created variable named as Sum \n",
    "print(\"The sum of two numbers is \", sum)"
   ]
  },
  {
   "cell_type": "code",
   "execution_count": 4,
   "id": "89092f40",
   "metadata": {},
   "outputs": [],
   "source": [
    "#2. User-input"
   ]
  },
  {
   "cell_type": "code",
   "execution_count": 5,
   "id": "3bbd35c5",
   "metadata": {},
   "outputs": [
    {
     "name": "stdout",
     "output_type": "stream",
     "text": [
      "Enter the number: 11\n",
      "Enter the number: 77\n",
      "The sum of two numbers is  88.0\n"
     ]
    }
   ],
   "source": [
    "num1 = float(input(\"Enter the number: \")) #We use float because the user can add decimal values, If we give int means interger values then user can't add decimal values\n",
    "num2 = float(input(\"Enter the number: \"))\n",
    "\n",
    "sum = num1+num2\n",
    "print(\"The sum of two numbers is \", sum)"
   ]
  },
  {
   "cell_type": "code",
   "execution_count": null,
   "id": "389d5a14",
   "metadata": {},
   "outputs": [],
   "source": []
  }
 ],
 "metadata": {
  "kernelspec": {
   "display_name": "Python 3 (ipykernel)",
   "language": "python",
   "name": "python3"
  },
  "language_info": {
   "codemirror_mode": {
    "name": "ipython",
    "version": 3
   },
   "file_extension": ".py",
   "mimetype": "text/x-python",
   "name": "python",
   "nbconvert_exporter": "python",
   "pygments_lexer": "ipython3",
   "version": "3.9.13"
  }
 },
 "nbformat": 4,
 "nbformat_minor": 5
}
